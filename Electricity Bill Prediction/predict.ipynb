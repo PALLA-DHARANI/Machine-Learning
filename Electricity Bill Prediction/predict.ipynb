{
 "cells": [
  {
   "cell_type": "code",
   "execution_count": 16,
   "metadata": {},
   "outputs": [],
   "source": [
    "import pickle\n",
    "import numpy as np\n",
    "import pandas as pd"
   ]
  },
  {
   "cell_type": "code",
   "execution_count": 17,
   "metadata": {},
   "outputs": [],
   "source": [
    "le_city=pickle.load(open('le_city.pkl','rb'))\n",
    "le_company=pickle.load(open('le_company.pkl','rb'))\n",
    "standard_scaler=pickle.load(open('scaler.pkl','rb'))\n",
    "lin_model=pickle.load(open('lin.pkl','rb'))"
   ]
  },
  {
   "cell_type": "code",
   "execution_count": 18,
   "metadata": {},
   "outputs": [],
   "source": [
    "data=[13,22,2,21,1,4,'Hyderabad','TransRail Lighting',546]"
   ]
  },
  {
   "cell_type": "code",
   "execution_count": 19,
   "metadata": {},
   "outputs": [
    {
     "data": {
      "text/plain": [
       "array(['Adani Power Ltd.', 'Bonfiglioli Transmission Pvt. Ltd.', 'CESC',\n",
       "       'GE T&D India Limited', 'Guj Ind Power', 'Indowind Energy',\n",
       "       'JSW Energy Ltd.', 'Jaiprakash Power', 'Jyoti Structure',\n",
       "       'KEC International', 'Kalpataru Power',\n",
       "       'L&T Transmission & Distribution',\n",
       "       'Maha Transco – Maharashtra State Electricity Transmission Co, Ltd.',\n",
       "       'NHPC', 'NLC India', 'NTPC Pvt. Ltd.',\n",
       "       'Neueon Towers / Sujana Towers Ltd.',\n",
       "       'Optibelt Power Transmission India Private Limited',\n",
       "       'Orient Green', 'Power Grid Corp',\n",
       "       'Ratnagiri Gas and Power Pvt. Ltd. (RGPPL)', 'Reliance Energy',\n",
       "       'Reliance Power', 'Ringfeder Power Transmission India Pvt. Ltd.',\n",
       "       'SJVN Ltd.', 'Sterlite Power Transmission Ltd', 'Sunil Hitech Eng',\n",
       "       'Tata Power Company Ltd.', 'Torrent Power Ltd.',\n",
       "       'Toshiba Transmission & Distribution Systems (India) Pvt. Ltd.',\n",
       "       'TransRail Lighting', 'Unitech Power Transmission Ltd.'],\n",
       "      dtype=object)"
      ]
     },
     "execution_count": 19,
     "metadata": {},
     "output_type": "execute_result"
    }
   ],
   "source": [
    "le_city.classes_\n",
    "le_company.classes_"
   ]
  },
  {
   "cell_type": "code",
   "execution_count": 20,
   "metadata": {},
   "outputs": [
    {
     "name": "stderr",
     "output_type": "stream",
     "text": [
      "C:\\Users\\nalla\\AppData\\Local\\Temp\\ipykernel_25052\\1949535393.py:1: DeprecationWarning: Conversion of an array with ndim > 0 to a scalar is deprecated, and will error in future. Ensure you extract a single element from your array before performing this operation. (Deprecated NumPy 1.25.)\n",
      "  data[6]=int(le_city.transform([data[6]]))\n"
     ]
    }
   ],
   "source": [
    "data[6]=int(le_city.transform([data[6]]))"
   ]
  },
  {
   "cell_type": "code",
   "execution_count": 21,
   "metadata": {},
   "outputs": [
    {
     "data": {
      "text/plain": [
       "5"
      ]
     },
     "execution_count": 21,
     "metadata": {},
     "output_type": "execute_result"
    }
   ],
   "source": [
    "data[6]"
   ]
  },
  {
   "cell_type": "code",
   "execution_count": 22,
   "metadata": {},
   "outputs": [
    {
     "name": "stderr",
     "output_type": "stream",
     "text": [
      "C:\\Users\\nalla\\AppData\\Local\\Temp\\ipykernel_25052\\3200688716.py:1: DeprecationWarning: Conversion of an array with ndim > 0 to a scalar is deprecated, and will error in future. Ensure you extract a single element from your array before performing this operation. (Deprecated NumPy 1.25.)\n",
      "  data[7]=int(le_company.transform([data[7]]))\n"
     ]
    }
   ],
   "source": [
    "data[7]=int(le_company.transform([data[7]]))"
   ]
  },
  {
   "cell_type": "code",
   "execution_count": 23,
   "metadata": {},
   "outputs": [
    {
     "data": {
      "text/plain": [
       "[13, 22, 2, 21, 1, 4, 5, 30, 546]"
      ]
     },
     "execution_count": 23,
     "metadata": {},
     "output_type": "execute_result"
    }
   ],
   "source": [
    "data"
   ]
  },
  {
   "cell_type": "code",
   "execution_count": 24,
   "metadata": {},
   "outputs": [
    {
     "name": "stderr",
     "output_type": "stream",
     "text": [
      "C:\\Users\\nalla\\AppData\\Roaming\\Python\\Python313\\site-packages\\sklearn\\base.py:493: UserWarning: X does not have valid feature names, but StandardScaler was fitted with feature names\n",
      "  warnings.warn(\n"
     ]
    }
   ],
   "source": [
    "scaled_values=standard_scaler.transform([[data[1],data[8]]])[0]\n",
    "data[1],data[8]=scaled_values"
   ]
  },
  {
   "cell_type": "code",
   "execution_count": 25,
   "metadata": {},
   "outputs": [
    {
     "data": {
      "text/plain": [
       "[13,\n",
       " np.float64(0.17717352319245705),\n",
       " 2,\n",
       " 21,\n",
       " 1,\n",
       " 4,\n",
       " 5,\n",
       " 30,\n",
       " np.float64(0.25110740967629)]"
      ]
     },
     "execution_count": 25,
     "metadata": {},
     "output_type": "execute_result"
    }
   ],
   "source": [
    "data"
   ]
  },
  {
   "cell_type": "code",
   "execution_count": 26,
   "metadata": {},
   "outputs": [
    {
     "name": "stdout",
     "output_type": "stream",
     "text": [
      "4590.595834201599\n"
     ]
    },
    {
     "name": "stderr",
     "output_type": "stream",
     "text": [
      "C:\\Users\\nalla\\AppData\\Roaming\\Python\\Python313\\site-packages\\sklearn\\base.py:493: UserWarning: X does not have valid feature names, but LinearRegression was fitted with feature names\n",
      "  warnings.warn(\n"
     ]
    }
   ],
   "source": [
    "data=np.array(data).reshape(1,-1)\n",
    "print(lin_model.predict(data)[0])"
   ]
  },
  {
   "cell_type": "code",
   "execution_count": null,
   "metadata": {},
   "outputs": [],
   "source": []
  }
 ],
 "metadata": {
  "kernelspec": {
   "display_name": "Python 3",
   "language": "python",
   "name": "python3"
  },
  "language_info": {
   "codemirror_mode": {
    "name": "ipython",
    "version": 3
   },
   "file_extension": ".py",
   "mimetype": "text/x-python",
   "name": "python",
   "nbconvert_exporter": "python",
   "pygments_lexer": "ipython3",
   "version": "3.13.0"
  }
 },
 "nbformat": 4,
 "nbformat_minor": 2
}
